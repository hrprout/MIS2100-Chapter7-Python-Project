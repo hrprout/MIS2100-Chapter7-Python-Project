{
 "cells": [
  {
   "cell_type": "code",
   "execution_count": 44,
   "id": "8e654125",
   "metadata": {},
   "outputs": [],
   "source": [
    "class SimpleMath:\n",
    "    def divide(self, numerator, denominator):\n",
    "        try:\n",
    "            return numerator/denominator\n",
    "        except ZeroDivisionError:\n",
    "            print(\"Cannot divide by zero\")"
   ]
  },
  {
   "cell_type": "code",
   "execution_count": 45,
   "id": "bab5a558",
   "metadata": {},
   "outputs": [],
   "source": [
    "import unittest"
   ]
  },
  {
   "cell_type": "code",
   "execution_count": 46,
   "id": "ff527882",
   "metadata": {
    "scrolled": true
   },
   "outputs": [
    {
     "name": "stderr",
     "output_type": "stream",
     "text": [
      "..F."
     ]
    },
    {
     "name": "stdout",
     "output_type": "stream",
     "text": [
      "Cannot divide by zero\n"
     ]
    },
    {
     "name": "stderr",
     "output_type": "stream",
     "text": [
      "\n",
      "======================================================================\n",
      "FAIL: testThatZeroDenominatorThrowsException (__main__.SimpleMathTest)\n",
      "----------------------------------------------------------------------\n",
      "Traceback (most recent call last):\n",
      "  File \"<ipython-input-46-ae717c61df86>\", line 14, in testThatZeroDenominatorThrowsException\n",
      "    math4.divide(6,0)\n",
      "AssertionError: ZeroDivisionError not raised\n",
      "\n",
      "----------------------------------------------------------------------\n",
      "Ran 4 tests in 0.015s\n",
      "\n",
      "FAILED (failures=1)\n"
     ]
    }
   ],
   "source": [
    "class SimpleMathTest(unittest.TestCase):\n",
    "        def testThatZeroNumeratorReturnsZero(self):\n",
    "            math1=SimpleMath()\n",
    "            self.assertEqual(math1.divide(0,7),0)\n",
    "        def testThatSmallerNumeratorReturnsDecimalValue(self):\n",
    "            math2=SimpleMath()\n",
    "            self.assertEqual(math2.divide(1,4),0.25)\n",
    "        def testThatSmallerNumberReturnsRepeatingDecimalValue(self):\n",
    "            math3=SimpleMath()\n",
    "            self.assertAlmostEqual(math3.divide(1,7),0.143,3)\n",
    "        def testThatZeroDenominatorThrowsException(self):\n",
    "            math4=SimpleMath()\n",
    "            with self.assertRaises(ZeroDivisionError):\n",
    "                math4.divide(6,0)\n",
    "if __name__ == '__main__':\n",
    "    unittest.main(argv=['first-arg-is-ignored'], exit=False)"
   ]
  },
  {
   "cell_type": "code",
   "execution_count": null,
   "id": "52a151d8",
   "metadata": {},
   "outputs": [],
   "source": []
  }
 ],
 "metadata": {
  "kernelspec": {
   "display_name": "Python 3",
   "language": "python",
   "name": "python3"
  },
  "language_info": {
   "codemirror_mode": {
    "name": "ipython",
    "version": 3
   },
   "file_extension": ".py",
   "mimetype": "text/x-python",
   "name": "python",
   "nbconvert_exporter": "python",
   "pygments_lexer": "ipython3",
   "version": "3.8.8"
  }
 },
 "nbformat": 4,
 "nbformat_minor": 5
}
