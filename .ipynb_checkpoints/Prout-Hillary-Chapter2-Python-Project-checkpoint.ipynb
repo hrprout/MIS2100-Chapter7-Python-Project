{
 "cells": [
  {
   "cell_type": "markdown",
   "id": "7c7e644e",
   "metadata": {},
   "source": [
    "This notebook creates and uses a Customer class"
   ]
  },
  {
   "cell_type": "code",
   "execution_count": 1,
   "id": "1612edb3",
   "metadata": {},
   "outputs": [],
   "source": [
    "class Customer:\n",
    "    def __init__ (self, firstName=None, lastName=None, address=None, age=20):\n",
    "        self.__firstName = firstName\n",
    "        self.__lastName = lastName\n",
    "        self.__address = address\n",
    "        self.__age = age\n",
    "    def getFirstName(self):\n",
    "        return self.__firstName\n",
    "    def getLastName(self):\n",
    "        return self.__lastName\n",
    "    def getAddress(self):\n",
    "        return self.__address\n",
    "    def getAge(self):\n",
    "        return self.__age\n",
    "    def setFirstName(self, firstName):\n",
    "        self.__firstName = firstName\n",
    "    def setLastName(self, lastName):\n",
    "        self.__lastName = lastName\n",
    "    def setAddress(self, address):\n",
    "        self.__address = address\n",
    "    def setAge(self, age):\n",
    "        self.__age = age\n",
    "    def printCustomerDetails(self):\n",
    "        print(\"Name: \" + str(self.__firstName) + \" \" + str(self.__lastName))\n",
    "        print(\"Address: \" + self.__address)\n",
    "        print(\"Age: \" + str(self.__age))\n",
    "        "
   ]
  },
  {
   "cell_type": "code",
   "execution_count": 2,
   "id": "e0580c9c",
   "metadata": {},
   "outputs": [
    {
     "name": "stdout",
     "output_type": "stream",
     "text": [
      "Name: Hillary Prout\n",
      "Address: 123 Fake St\n",
      "Age: 20\n",
      "Name: Walter White\n",
      "Address: 308 Negro Arroyo Lane\n",
      "Age: 50\n"
     ]
    }
   ],
   "source": [
    "firstCustomer=Customer(\"Hillary\", \"Prout\", \"123 Fake St\", 20)\n",
    "firstCustomer.printCustomerDetails()\n",
    "secondCustomer=Customer()\n",
    "secondCustomer.setFirstName(\"Walter\")\n",
    "secondCustomer.setLastName(\"White\")\n",
    "secondCustomer.setAddress(\"308 Negro Arroyo Lane\")\n",
    "secondCustomer.setAge(50)\n",
    "secondCustomer.printCustomerDetails()"
   ]
  },
  {
   "cell_type": "code",
   "execution_count": null,
   "id": "112010e9",
   "metadata": {},
   "outputs": [],
   "source": []
  }
 ],
 "metadata": {
  "kernelspec": {
   "display_name": "Python 3",
   "language": "python",
   "name": "python3"
  },
  "language_info": {
   "codemirror_mode": {
    "name": "ipython",
    "version": 3
   },
   "file_extension": ".py",
   "mimetype": "text/x-python",
   "name": "python",
   "nbconvert_exporter": "python",
   "pygments_lexer": "ipython3",
   "version": "3.8.8"
  }
 },
 "nbformat": 4,
 "nbformat_minor": 5
}
