{
 "cells": [
  {
   "cell_type": "code",
   "execution_count": 50,
   "id": "4a450425",
   "metadata": {},
   "outputs": [],
   "source": [
    "class Department:\n",
    "    def __init__(self, departmentSupervisor=None):\n",
    "        self.departmentSupervisor=departmentSupervisor\n",
    "        self.departmentAssets=[]"
   ]
  },
  {
   "cell_type": "code",
   "execution_count": 51,
   "id": "71f5ad17",
   "metadata": {},
   "outputs": [],
   "source": [
    "class DepartmentAsset:\n",
    "    def __init__(self,assetName=None, assetValue=None, quantity=None, expectedLifeSpan=None):\n",
    "        self.assetName=assetName\n",
    "        self.assetValue=assetValue\n",
    "        self.quantity=quantity\n",
    "        self.expectedLifeSpan=expectedLifeSpan"
   ]
  },
  {
   "cell_type": "code",
   "execution_count": 52,
   "id": "4240ad3c",
   "metadata": {},
   "outputs": [],
   "source": [
    "class DepartmentManager:\n",
    "    def __init__(self):\n",
    "        self.departments={}"
   ]
  },
  {
   "cell_type": "code",
   "execution_count": 53,
   "id": "59bbce82",
   "metadata": {},
   "outputs": [],
   "source": [
    "deptManager=DepartmentManager()\n",
    "mktDept=Department(\"Jamie Doe\")\n",
    "mktDeptAsset1=DepartmentAsset(\"desk\",5000,2,10)\n",
    "mktDeptAsset2=DepartmentAsset(\"computer\",1500,5,5)\n",
    "mktDept.departmentAssets.append(mktDeptAsset1)\n",
    "mktDept.departmentAssets.append(mktDeptAsset2)\n",
    "financeDept=Department(\"Ryan Doe\")\n",
    "financeDeptAsset1=DepartmentAsset(\"chair\",500,2,10)\n",
    "financeDeptAsset2=DepartmentAsset(\"calculator\",500,3,5)\n",
    "financeDept.departmentAssets.append(financeDeptAsset1)\n",
    "financeDept.departmentAssets.append(financeDeptAsset2)\n",
    "deptManager.departments[\"marketing\"]=mktDept\n",
    "deptManager.departments[\"finance\"]=financeDept"
   ]
  },
  {
   "cell_type": "code",
   "execution_count": 54,
   "id": "e8b06ca9",
   "metadata": {},
   "outputs": [
    {
     "name": "stdout",
     "output_type": "stream",
     "text": [
      "Jamie Doe is in charge of the marketing department and the following assets less than $2000:\n",
      "\t5 computers at $1500 each. This asset is expected to last for 5 years.\n",
      "Ryan Doe is in charge of the finance department and the following assets less than $2000:\n",
      "\t2 chairs at $500 each. This asset is expected to last for 10 years.\n",
      "\t3 calculators at $500 each. This asset is expected to last for 5 years.\n"
     ]
    }
   ],
   "source": [
    "for key,value in deptManager.departments.items():\n",
    "    print(\"{} is in charge of the {} department and the following assets less than $2000:\".format(value.departmentSupervisor,key))\n",
    "    for asset in value.departmentAssets:\n",
    "        if (asset.assetValue<2000):\n",
    "            print(\"\\t{} {}s at ${} each. This asset is expected to last for {} years.\".format(str(asset.quantity),asset.assetName,str(asset.assetValue),str(asset.expectedLifeSpan)))"
   ]
  }
 ],
 "metadata": {
  "kernelspec": {
   "display_name": "Python 3",
   "language": "python",
   "name": "python3"
  },
  "language_info": {
   "codemirror_mode": {
    "name": "ipython",
    "version": 3
   },
   "file_extension": ".py",
   "mimetype": "text/x-python",
   "name": "python",
   "nbconvert_exporter": "python",
   "pygments_lexer": "ipython3",
   "version": "3.8.8"
  }
 },
 "nbformat": 4,
 "nbformat_minor": 5
}
